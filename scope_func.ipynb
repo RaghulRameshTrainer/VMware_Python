{
 "cells": [
  {
   "cell_type": "code",
   "execution_count": 11,
   "metadata": {},
   "outputs": [
    {
     "name": "stdout",
     "output_type": "stream",
     "text": [
      "Age before the function call :  38\n",
      "Age inside the function is : 100\n",
      "Age after the function call :  100\n"
     ]
    }
   ],
   "source": [
    "age=38\n",
    "\n",
    "def callme():\n",
    "    global age\n",
    "    age=100\n",
    "    print(\"Age inside the function is :\",age)\n",
    "    #return age\n",
    "    \n",
    "print(\"Age before the function call : \", age)\n",
    "callme()\n",
    "print(\"Age after the function call : \", age)"
   ]
  },
  {
   "cell_type": "code",
   "execution_count": null,
   "metadata": {},
   "outputs": [],
   "source": []
  }
 ],
 "metadata": {
  "kernelspec": {
   "display_name": "Python 3",
   "language": "python",
   "name": "python3"
  },
  "language_info": {
   "codemirror_mode": {
    "name": "ipython",
    "version": 3
   },
   "file_extension": ".py",
   "mimetype": "text/x-python",
   "name": "python",
   "nbconvert_exporter": "python",
   "pygments_lexer": "ipython3",
   "version": "3.8.5"
  }
 },
 "nbformat": 4,
 "nbformat_minor": 4
}
